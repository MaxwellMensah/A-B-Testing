{
  "nbformat": 4,
  "nbformat_minor": 0,
  "metadata": {
    "kernelspec": {
      "display_name": "Python 3 (ipykernel)",
      "language": "python",
      "name": "python3"
    },
    "language_info": {
      "codemirror_mode": {
        "name": "ipython",
        "version": 3
      },
      "file_extension": ".py",
      "mimetype": "text/x-python",
      "name": "python",
      "nbconvert_exporter": "python",
      "pygments_lexer": "ipython3",
      "version": "3.8.10"
    },
    "colab": {
      "name": "A/B-Testing (for everyone).ipynb",
      "provenance": [],
      "collapsed_sections": [],
      "include_colab_link": true
    }
  },
  "cells": [
    {
      "cell_type": "markdown",
      "metadata": {
        "id": "view-in-github",
        "colab_type": "text"
      },
      "source": [
        "<a href=\"https://colab.research.google.com/github/MaxwellMensah/A-B-Testing/blob/main/A_B_Testing_(for_everyone).ipynb\" target=\"_parent\"><img src=\"https://colab.research.google.com/assets/colab-badge.svg\" alt=\"Open In Colab\"/></a>"
      ]
    },
    {
      "cell_type": "markdown",
      "metadata": {
        "id": "ipE_pdL_eKcw"
      },
      "source": [
        "# What is **A/B Testing?**\n",
        "\n",
        "A/B testing is a general methodology used online when testing product changes and new features. You take two sets of users, show **one set of users the changed product (experiment group)** and show the **second set of users the original product** or set of features **(control group)**. You then compare the two groups to determine which version of the product is better."
      ]
    },
    {
      "cell_type": "markdown",
      "metadata": {
        "id": "hfi6JwlOePRf"
      },
      "source": [
        "A/B Testing is important because it:\n",
        "\n",
        "— Removes the need for guessing or relying on intuition\n",
        "\n",
        "— Provides accurate answers quickly\n",
        "\n",
        "— Allows for rapid iteration on ideas\n",
        "\n",
        "— Establishes causal(temporary) relationships — not just correlations.\n",
        "\n",
        "A/B testing **works** best when testing incremental changes, such as UX changes, new features, ranking and page load times. Generally there needs to be a material amount of users that enable statistical inference and experiments that can be completed within a reasonable amount of time.\n",
        "\n",
        "A/B testing **doesn’t work** well when testing major changes, like new products, new branding or completely new user experiences. In these cases there may be novelty effects that drive higher than normal engagement or emotional responses that cause users to resist a change initially. The re-branding of Instagram is a great example of a bad use case for A/B testing which initially caused a major negative emotional response. Additionally, A/B tests on products that are purchased infrequently and have long lead times is a bad idea — waiting to measure the repurchase rate of customer’s buying houses is going to blow out experiment timelines."
      ]
    },
    {
      "cell_type": "markdown",
      "metadata": {
        "id": "5bt2xF3GeW4e"
      },
      "source": [
        "# Causation explicitly applies to cases where action A causes outcome B.  On the other hand, correlation is simply a relationship\n",
        "\n",
        "# **Designing an A/B Test**\n",
        "\n",
        "# 1. Research\n",
        "\n",
        "Before diving into any experiment, do some research. Research can help you design an experiment, ensure you use best practices and may even unearth results of similar experiments. There are several useful data sources that may help design or support an experiment::\n",
        "\n",
        "**> External Data and Research**: the adage “if you’ve thought of it, someone’s probably tried it” is true for experiments; doing some research may reveal the insights you need or at least provide ideas for experiment design\n",
        "\n",
        "**> Historical Data**: retrospective analysis is cheap and easy and can provide insight into historical correlations (but not causation!)\n",
        "\n",
        "**> User Experience Research**: actually getting to see how a user interacts with a product can be invaluable for setting up and testing an experiment\n",
        "\n",
        "**> Focus Groups**: while not accessible for most analysts, focus groups can be great for testing major changes and new products\n",
        "\n",
        "**> Surveys**: surveys can be effective for gathering information that is not revealed online"
      ]
    },
    {
      "cell_type": "markdown",
      "metadata": {
        "id": "twVzu3Nkex0m"
      },
      "source": [
        "# 2. Choose Metrics\n",
        "Metric choice is, unsurprisingly, fundamental to successful A/B testing. Many common experiments have clear, best practice metrics to use however every company faces its own nuances and priorities that should be considered when choosing metrics; developing the metrics should leverage(support) experience, domain knowledge and exploratory data analysis. \n",
        "\n",
        "**My experience is that metrics work best when cascaded top-down**(hierarchical structure in the organization) from a company or business unit strategy. This way there is a clear link between the goals of the experiment and the goals of the company. This approach means experiments can anchor to one or two clear metrics (e.g. customer conversions or number of active users) that are simple to report and understandable to all stakeholders."
      ]
    },
    {
      "cell_type": "markdown",
      "metadata": {
        "id": "z1-zYbgBfFZp"
      },
      "source": [
        "Having one or two key metrics is usually not enough though. Most decision makers will want to understand what has driven change, and so key metrics should be supported by more detailed metrics that help explain results. One framework that can provide this explainability is tracking metrics across the user journey or customer funnel. Having metrics across these frameworks helps clearly identify where changes have occurred and where additional experimentation and attention could be focused.\n",
        "\n",
        "Four categories of metrics should be considered when designing an experiment, namely:\n",
        "\n",
        "**— Sums and counts** — e.g. how many cookies visit a webpage\n",
        "\n",
        "**— Distributed metrics such as mean, median and quartiles** — e.g. what is the mean page load time\n",
        "\n",
        "**— Probability and rates** — e.g. clickthrough rates\n",
        "\n",
        "**— Ratios** — e.g. ratio of the probability of a revenue generating click to the probability of any click"
      ]
    },
    {
      "cell_type": "markdown",
      "metadata": {
        "id": "ELNyD0ZzfHIr"
      },
      "source": [
        "# 3. Define Metrics\n",
        "Once you have decided on a set of metrics, you then need to specifically define the metrics. This step seems simple on the surface until you begin to dig into your metrics. For example, the number of active users is a core metric used by most technology companies — but what does this actually mean? When defining this metric some considerations would include:\n",
        "\n",
        "**What is the time period for a user to be active?** Is someone active who used the product today, in the last 7 days, in the last month?\n",
        "\n",
        "**What activity constitutes active?** Is it logging in, spending a certain amount of time using the product? What if the activity is only an automatic notification?\n",
        "\n",
        "**Does how active the user is matter**, e.g. one user spends 10 seconds per day vs another user who spends 5 hours per day?\n",
        "\n",
        "**Are we measuring paying and non-paying users differently?**\n",
        "Many metrics have industry defined standards which can be leveraged for experiments, but these questions need to be fleshed out upfront so that everyone is clear on exactly what is being considered and how to implement the experiment.\n"
      ]
    },
    {
      "cell_type": "markdown",
      "metadata": {
        "id": "Xt3SRstYfTRY"
      },
      "source": [
        "# 4. Determine Sample Size Required\n",
        "\n",
        "Next we want to figure out how many data points will be required to run an experiment. There are four test **parameters** that need to be set to enable the calculation of a suitable sample size:\n",
        "\n",
        "**— Baseline rate** — an estimate of the metric being analyzed before making any changes\n",
        "\n",
        "**— Practical significance level** — the minimum change to the baseline rate that is useful to the business, for example an increase in the conversion rate of 0.001% may not be worth the effort required to make the change whereas a 2% change will be\n",
        "\n",
        "**— Confidence level** — also called significance level is the probability that the null hypothesis (experiment and control are the same) is rejected when it shouldn’t be\n",
        "\n",
        "**— Sensitivity** — the probability that the null hypothesis is not rejected when it should be\n",
        "\n",
        "The baseline rate can be estimated using historical data, the practical significance level will depend on what makes sense to the business and the **confidence level** and **sensitivity** are generally set at **95%** and **80%** respectively but can be adjusted to suit different experiments or business needs.\n",
        "\n",
        "Once these are set, the sample size required can be calculated statistically using a calculator such as this."
      ]
    },
    {
      "cell_type": "markdown",
      "metadata": {
        "id": "fixd_wvnfdc-"
      },
      "source": [
        "# 5. Finalize Experiment Design\n",
        "\n",
        "Armed with well-defined metrics and sample size requirements, the final step in experiment design is to consider the practical elements of conducting an experiment. Some things to keep in mind for this step is deciding:\n",
        "\n",
        "**— When the experiment should run** (e.g. every day or only business days) and how long the experiment should run (e.g. 1 day or 1 week)\n",
        "\n",
        "**— How many users to expose to the experiment per day**, where exposing fewer users means longer experiment time periods\n",
        "\n",
        "**— How to account for the learning effect** i.e. allow for users to learn the changes before measuring the impact of a change\n",
        "\n",
        "**— What tools will be used to capture data**, such as Google Analytics\n",
        "\n",
        "Before running any experiments you should also conduct some tests to make sure there are no bugs that will throw experiment results, such as issues with certain browsers, devices or operating systems. It is also very important to ensure users are selected randomly when being assigned into the control and experiment groups.\n"
      ]
    },
    {
      "cell_type": "markdown",
      "metadata": {
        "id": "FEMXEio6fveC"
      },
      "source": [
        "## **Implementing an A/B Test using Python**\n",
        "The real difficulty in conducting A/B tests is designing the experiment and gathering the data. Once you have done these steps the analysis itself follows standard statistical significance tests. To demonstrate how to conduct an A/B test I’ve downloaded a public dataset from Kaggle available here, which is testing the conversion rates of two groups (control and treatment) exposed to different landing pages. The dataset comprises twenty-nine thousand rows of datapoints, access to the Python code outlined below can be found on my Github here.\n",
        "\n",
        "For this example, I’ll test the null hypothesis that the probability of conversion in the treatment group minus the probability of conversion in the control group equals zero. And set the alternative hypothesis to be that the probability of conversion in the treatment group minus the probability of conversion in the control group does not equal zero."
      ]
    },
    {
      "cell_type": "markdown",
      "metadata": {
        "id": "WV5Z1U8lfzuW"
      },
      "source": [
        "# 1. Clean Data\n",
        "As with any analysis, the first step is to clean up the data that has been collected. This step is important to ensure that the data aligns with the metric definitions determined during the experiment design.\n",
        "You should start by running some sanity checks to make sure the experiment results reflect the initial design, e.g. did roughly an equal number of users see the old and new landing page or are the conversion rates in the realm of possibilities.\n",
        "I found one issue in this dataset, that some users in both groups were exposed to the wrong landing page. The control group should have been exposed to the old landing page while the treatment group should have been exposed to the new page. I dropped the almost 4,000 rows where this issue was present."
      ]
    },
    {
      "cell_type": "code",
      "metadata": {
        "execution": {
          "iopub.execute_input": "2021-10-21T00:07:41.823786Z",
          "iopub.status.busy": "2021-10-21T00:07:41.823253Z",
          "iopub.status.idle": "2021-10-21T00:07:42.294179Z",
          "shell.execute_reply": "2021-10-21T00:07:42.293272Z",
          "shell.execute_reply.started": "2021-10-21T00:07:41.823748Z"
        },
        "id": "Z_K0tocTdZTS"
      },
      "source": [
        "import numpy as np\n",
        "import pandas as pd\n",
        "import math\n",
        "# data = pd.read_csv(\"/kaggle/input/ab-testing/ab_data.csv\")\n",
        "data = pd.read_csv(\"ab_data.csv\")"
      ],
      "execution_count": 1,
      "outputs": []
    },
    {
      "cell_type": "code",
      "metadata": {
        "execution": {
          "iopub.execute_input": "2021-10-21T00:07:42.296209Z",
          "iopub.status.busy": "2021-10-21T00:07:42.295941Z",
          "iopub.status.idle": "2021-10-21T00:07:42.308145Z",
          "shell.execute_reply": "2021-10-21T00:07:42.307282Z",
          "shell.execute_reply.started": "2021-10-21T00:07:42.296178Z"
        },
        "colab": {
          "base_uri": "https://localhost:8080/",
          "height": 204
        },
        "id": "ajyZYpx9dZTT",
        "outputId": "03017285-1562-4139-cd18-74fe0ff241da"
      },
      "source": [
        "data.head()"
      ],
      "execution_count": 2,
      "outputs": [
        {
          "output_type": "execute_result",
          "data": {
            "text/html": [
              "<div>\n",
              "<style scoped>\n",
              "    .dataframe tbody tr th:only-of-type {\n",
              "        vertical-align: middle;\n",
              "    }\n",
              "\n",
              "    .dataframe tbody tr th {\n",
              "        vertical-align: top;\n",
              "    }\n",
              "\n",
              "    .dataframe thead th {\n",
              "        text-align: right;\n",
              "    }\n",
              "</style>\n",
              "<table border=\"1\" class=\"dataframe\">\n",
              "  <thead>\n",
              "    <tr style=\"text-align: right;\">\n",
              "      <th></th>\n",
              "      <th>user_id</th>\n",
              "      <th>timestamp</th>\n",
              "      <th>group</th>\n",
              "      <th>landing_page</th>\n",
              "      <th>converted</th>\n",
              "    </tr>\n",
              "  </thead>\n",
              "  <tbody>\n",
              "    <tr>\n",
              "      <th>0</th>\n",
              "      <td>851104</td>\n",
              "      <td>2017-01-21 22:11:48.556739</td>\n",
              "      <td>control</td>\n",
              "      <td>old_page</td>\n",
              "      <td>0</td>\n",
              "    </tr>\n",
              "    <tr>\n",
              "      <th>1</th>\n",
              "      <td>804228</td>\n",
              "      <td>2017-01-12 08:01:45.159739</td>\n",
              "      <td>control</td>\n",
              "      <td>old_page</td>\n",
              "      <td>0</td>\n",
              "    </tr>\n",
              "    <tr>\n",
              "      <th>2</th>\n",
              "      <td>661590</td>\n",
              "      <td>2017-01-11 16:55:06.154213</td>\n",
              "      <td>treatment</td>\n",
              "      <td>new_page</td>\n",
              "      <td>0</td>\n",
              "    </tr>\n",
              "    <tr>\n",
              "      <th>3</th>\n",
              "      <td>853541</td>\n",
              "      <td>2017-01-08 18:28:03.143765</td>\n",
              "      <td>treatment</td>\n",
              "      <td>new_page</td>\n",
              "      <td>0</td>\n",
              "    </tr>\n",
              "    <tr>\n",
              "      <th>4</th>\n",
              "      <td>864975</td>\n",
              "      <td>2017-01-21 01:52:26.210827</td>\n",
              "      <td>control</td>\n",
              "      <td>old_page</td>\n",
              "      <td>1</td>\n",
              "    </tr>\n",
              "  </tbody>\n",
              "</table>\n",
              "</div>"
            ],
            "text/plain": [
              "   user_id                   timestamp      group landing_page  converted\n",
              "0   851104  2017-01-21 22:11:48.556739    control     old_page          0\n",
              "1   804228  2017-01-12 08:01:45.159739    control     old_page          0\n",
              "2   661590  2017-01-11 16:55:06.154213  treatment     new_page          0\n",
              "3   853541  2017-01-08 18:28:03.143765  treatment     new_page          0\n",
              "4   864975  2017-01-21 01:52:26.210827    control     old_page          1"
            ]
          },
          "metadata": {},
          "execution_count": 2
        }
      ]
    },
    {
      "cell_type": "code",
      "metadata": {
        "execution": {
          "iopub.execute_input": "2021-10-21T00:07:42.310011Z",
          "iopub.status.busy": "2021-10-21T00:07:42.309670Z",
          "iopub.status.idle": "2021-10-21T00:07:42.426566Z",
          "shell.execute_reply": "2021-10-21T00:07:42.425748Z",
          "shell.execute_reply.started": "2021-10-21T00:07:42.309952Z"
        },
        "colab": {
          "base_uri": "https://localhost:8080/"
        },
        "id": "YMBmz7YOdZTV",
        "outputId": "fd76ef4a-b2fd-4516-ad48-4ed0a2f083fc"
      },
      "source": [
        "data.info()"
      ],
      "execution_count": 3,
      "outputs": [
        {
          "output_type": "stream",
          "name": "stdout",
          "text": [
            "<class 'pandas.core.frame.DataFrame'>\n",
            "RangeIndex: 294478 entries, 0 to 294477\n",
            "Data columns (total 5 columns):\n",
            " #   Column        Non-Null Count   Dtype \n",
            "---  ------        --------------   ----- \n",
            " 0   user_id       294478 non-null  int64 \n",
            " 1   timestamp     294478 non-null  object\n",
            " 2   group         294478 non-null  object\n",
            " 3   landing_page  294478 non-null  object\n",
            " 4   converted     294478 non-null  int64 \n",
            "dtypes: int64(2), object(3)\n",
            "memory usage: 11.2+ MB\n"
          ]
        }
      ]
    },
    {
      "cell_type": "markdown",
      "metadata": {
        "id": "Mk9PyaIbdZTW"
      },
      "source": [
        "# **Clean Data**"
      ]
    },
    {
      "cell_type": "code",
      "metadata": {
        "execution": {
          "iopub.execute_input": "2021-10-21T00:07:42.429742Z",
          "iopub.status.busy": "2021-10-21T00:07:42.429328Z",
          "iopub.status.idle": "2021-10-21T00:07:42.537282Z",
          "shell.execute_reply": "2021-10-21T00:07:42.536429Z",
          "shell.execute_reply.started": "2021-10-21T00:07:42.429693Z"
        },
        "colab": {
          "base_uri": "https://localhost:8080/"
        },
        "id": "VQxAYT5wdZTZ",
        "outputId": "35eea0fc-934d-4d61-b2f9-5ebfa00406ee"
      },
      "source": [
        "data.isnull().sum()"
      ],
      "execution_count": 4,
      "outputs": [
        {
          "output_type": "execute_result",
          "data": {
            "text/plain": [
              "user_id         0\n",
              "timestamp       0\n",
              "group           0\n",
              "landing_page    0\n",
              "converted       0\n",
              "dtype: int64"
            ]
          },
          "metadata": {},
          "execution_count": 4
        }
      ]
    },
    {
      "cell_type": "code",
      "metadata": {
        "execution": {
          "iopub.execute_input": "2021-10-21T00:07:42.538929Z",
          "iopub.status.busy": "2021-10-21T00:07:42.538628Z",
          "iopub.status.idle": "2021-10-21T00:07:42.544689Z",
          "shell.execute_reply": "2021-10-21T00:07:42.543936Z",
          "shell.execute_reply.started": "2021-10-21T00:07:42.538887Z"
        },
        "colab": {
          "base_uri": "https://localhost:8080/"
        },
        "id": "5hMxEbWQdZTc",
        "outputId": "f9dea9e7-3caf-4f11-9fb8-876a8b6e1b98"
      },
      "source": [
        "data.columns"
      ],
      "execution_count": 5,
      "outputs": [
        {
          "output_type": "execute_result",
          "data": {
            "text/plain": [
              "Index(['user_id', 'timestamp', 'group', 'landing_page', 'converted'], dtype='object')"
            ]
          },
          "metadata": {},
          "execution_count": 5
        }
      ]
    },
    {
      "cell_type": "code",
      "metadata": {
        "execution": {
          "iopub.execute_input": "2021-10-21T00:07:42.545668Z",
          "iopub.status.busy": "2021-10-21T00:07:42.545463Z",
          "iopub.status.idle": "2021-10-21T00:07:42.560805Z",
          "shell.execute_reply": "2021-10-21T00:07:42.560043Z",
          "shell.execute_reply.started": "2021-10-21T00:07:42.545643Z"
        },
        "colab": {
          "base_uri": "https://localhost:8080/"
        },
        "id": "frxKf2oRdZTf",
        "outputId": "456d96b2-dc8c-4c0e-faf5-4c4c344b5a53"
      },
      "source": [
        "data['converted'].value_counts()"
      ],
      "execution_count": 6,
      "outputs": [
        {
          "output_type": "execute_result",
          "data": {
            "text/plain": [
              "0    259241\n",
              "1     35237\n",
              "Name: converted, dtype: int64"
            ]
          },
          "metadata": {},
          "execution_count": 6
        }
      ]
    },
    {
      "cell_type": "code",
      "metadata": {
        "execution": {
          "iopub.execute_input": "2021-10-21T00:07:42.562150Z",
          "iopub.status.busy": "2021-10-21T00:07:42.561878Z",
          "iopub.status.idle": "2021-10-21T00:07:42.616707Z",
          "shell.execute_reply": "2021-10-21T00:07:42.615752Z",
          "shell.execute_reply.started": "2021-10-21T00:07:42.562120Z"
        },
        "colab": {
          "base_uri": "https://localhost:8080/"
        },
        "id": "sX1VMjFWdZTi",
        "outputId": "5d702bda-44d0-455d-c966-ba8b79319c1f"
      },
      "source": [
        "data['group'].value_counts()"
      ],
      "execution_count": 7,
      "outputs": [
        {
          "output_type": "execute_result",
          "data": {
            "text/plain": [
              "treatment    147276\n",
              "control      147202\n",
              "Name: group, dtype: int64"
            ]
          },
          "metadata": {},
          "execution_count": 7
        }
      ]
    },
    {
      "cell_type": "code",
      "metadata": {
        "execution": {
          "iopub.execute_input": "2021-10-21T00:07:42.618045Z",
          "iopub.status.busy": "2021-10-21T00:07:42.617827Z",
          "iopub.status.idle": "2021-10-21T00:07:42.670365Z",
          "shell.execute_reply": "2021-10-21T00:07:42.669535Z",
          "shell.execute_reply.started": "2021-10-21T00:07:42.618019Z"
        },
        "colab": {
          "base_uri": "https://localhost:8080/"
        },
        "id": "O5kpsU4udZTk",
        "outputId": "124e0723-111c-4d71-81c3-68e7e4ca896e"
      },
      "source": [
        "data['landing_page'].value_counts()"
      ],
      "execution_count": 8,
      "outputs": [
        {
          "output_type": "execute_result",
          "data": {
            "text/plain": [
              "old_page    147239\n",
              "new_page    147239\n",
              "Name: landing_page, dtype: int64"
            ]
          },
          "metadata": {},
          "execution_count": 8
        }
      ]
    },
    {
      "cell_type": "code",
      "metadata": {
        "execution": {
          "iopub.execute_input": "2021-10-21T00:07:42.671834Z",
          "iopub.status.busy": "2021-10-21T00:07:42.671580Z",
          "iopub.status.idle": "2021-10-21T00:07:42.689666Z",
          "shell.execute_reply": "2021-10-21T00:07:42.689028Z",
          "shell.execute_reply.started": "2021-10-21T00:07:42.671806Z"
        },
        "colab": {
          "base_uri": "https://localhost:8080/",
          "height": 204
        },
        "id": "HowGU_9ldZTl",
        "outputId": "6a68c4e9-5c62-42e8-cc90-860187475f70"
      },
      "source": [
        "data.head()"
      ],
      "execution_count": 9,
      "outputs": [
        {
          "output_type": "execute_result",
          "data": {
            "text/html": [
              "<div>\n",
              "<style scoped>\n",
              "    .dataframe tbody tr th:only-of-type {\n",
              "        vertical-align: middle;\n",
              "    }\n",
              "\n",
              "    .dataframe tbody tr th {\n",
              "        vertical-align: top;\n",
              "    }\n",
              "\n",
              "    .dataframe thead th {\n",
              "        text-align: right;\n",
              "    }\n",
              "</style>\n",
              "<table border=\"1\" class=\"dataframe\">\n",
              "  <thead>\n",
              "    <tr style=\"text-align: right;\">\n",
              "      <th></th>\n",
              "      <th>user_id</th>\n",
              "      <th>timestamp</th>\n",
              "      <th>group</th>\n",
              "      <th>landing_page</th>\n",
              "      <th>converted</th>\n",
              "    </tr>\n",
              "  </thead>\n",
              "  <tbody>\n",
              "    <tr>\n",
              "      <th>0</th>\n",
              "      <td>851104</td>\n",
              "      <td>2017-01-21 22:11:48.556739</td>\n",
              "      <td>control</td>\n",
              "      <td>old_page</td>\n",
              "      <td>0</td>\n",
              "    </tr>\n",
              "    <tr>\n",
              "      <th>1</th>\n",
              "      <td>804228</td>\n",
              "      <td>2017-01-12 08:01:45.159739</td>\n",
              "      <td>control</td>\n",
              "      <td>old_page</td>\n",
              "      <td>0</td>\n",
              "    </tr>\n",
              "    <tr>\n",
              "      <th>2</th>\n",
              "      <td>661590</td>\n",
              "      <td>2017-01-11 16:55:06.154213</td>\n",
              "      <td>treatment</td>\n",
              "      <td>new_page</td>\n",
              "      <td>0</td>\n",
              "    </tr>\n",
              "    <tr>\n",
              "      <th>3</th>\n",
              "      <td>853541</td>\n",
              "      <td>2017-01-08 18:28:03.143765</td>\n",
              "      <td>treatment</td>\n",
              "      <td>new_page</td>\n",
              "      <td>0</td>\n",
              "    </tr>\n",
              "    <tr>\n",
              "      <th>4</th>\n",
              "      <td>864975</td>\n",
              "      <td>2017-01-21 01:52:26.210827</td>\n",
              "      <td>control</td>\n",
              "      <td>old_page</td>\n",
              "      <td>1</td>\n",
              "    </tr>\n",
              "  </tbody>\n",
              "</table>\n",
              "</div>"
            ],
            "text/plain": [
              "   user_id                   timestamp      group landing_page  converted\n",
              "0   851104  2017-01-21 22:11:48.556739    control     old_page          0\n",
              "1   804228  2017-01-12 08:01:45.159739    control     old_page          0\n",
              "2   661590  2017-01-11 16:55:06.154213  treatment     new_page          0\n",
              "3   853541  2017-01-08 18:28:03.143765  treatment     new_page          0\n",
              "4   864975  2017-01-21 01:52:26.210827    control     old_page          1"
            ]
          },
          "metadata": {},
          "execution_count": 9
        }
      ]
    },
    {
      "cell_type": "markdown",
      "metadata": {
        "id": "hBVv8OlgdZTm"
      },
      "source": [
        "*Some users in both groups were exposed to the wrong landing page. The control group should have been exposed to the old landing page while the treatment group should have been exposed to the new page. I dropped the almost 4,000 rows where this issue was present.*"
      ]
    },
    {
      "cell_type": "markdown",
      "metadata": {
        "id": "aWWaQhLWdZTn"
      },
      "source": [
        "**Control group/Original finding themselves in New landing page**"
      ]
    },
    {
      "cell_type": "code",
      "metadata": {
        "execution": {
          "iopub.execute_input": "2021-10-21T00:07:42.691240Z",
          "iopub.status.busy": "2021-10-21T00:07:42.690874Z",
          "iopub.status.idle": "2021-10-21T00:07:42.801411Z",
          "shell.execute_reply": "2021-10-21T00:07:42.800786Z",
          "shell.execute_reply.started": "2021-10-21T00:07:42.691210Z"
        },
        "colab": {
          "base_uri": "https://localhost:8080/"
        },
        "id": "QmZc0aRLdZTo",
        "outputId": "e8a4135e-0273-46d0-9234-5c76c5cd0e06"
      },
      "source": [
        "mask = (data[\"group\"] == \"control\") & (data[\"landing_page\"] == \"new_page\")\n",
        "mask.value_counts()"
      ],
      "execution_count": 10,
      "outputs": [
        {
          "output_type": "execute_result",
          "data": {
            "text/plain": [
              "False    292550\n",
              "True       1928\n",
              "dtype: int64"
            ]
          },
          "metadata": {},
          "execution_count": 10
        }
      ]
    },
    {
      "cell_type": "code",
      "metadata": {
        "execution": {
          "iopub.execute_input": "2021-10-21T00:07:42.803353Z",
          "iopub.status.busy": "2021-10-21T00:07:42.802621Z",
          "iopub.status.idle": "2021-10-21T00:07:42.813928Z",
          "shell.execute_reply": "2021-10-21T00:07:42.813365Z",
          "shell.execute_reply.started": "2021-10-21T00:07:42.803317Z"
        },
        "colab": {
          "base_uri": "https://localhost:8080/"
        },
        "id": "j8sGpjV0dZTp",
        "outputId": "0d6481d1-dedd-402b-fcf7-3a6d058ae359"
      },
      "source": [
        "datadrop = data[mask].index\n",
        "datadrop.value_counts()"
      ],
      "execution_count": 11,
      "outputs": [
        {
          "output_type": "execute_result",
          "data": {
            "text/plain": [
              "235519    1\n",
              "25882     1\n",
              "140628    1\n",
              "40279     1\n",
              "173400    1\n",
              "         ..\n",
              "129748    1\n",
              "29397     1\n",
              "209625    1\n",
              "76506     1\n",
              "184320    1\n",
              "Length: 1928, dtype: int64"
            ]
          },
          "metadata": {},
          "execution_count": 11
        }
      ]
    },
    {
      "cell_type": "code",
      "metadata": {
        "execution": {
          "iopub.execute_input": "2021-10-21T00:07:42.815418Z",
          "iopub.status.busy": "2021-10-21T00:07:42.814900Z",
          "iopub.status.idle": "2021-10-21T00:07:42.837845Z",
          "shell.execute_reply": "2021-10-21T00:07:42.837216Z",
          "shell.execute_reply.started": "2021-10-21T00:07:42.815389Z"
        },
        "id": "w6av3I3QdZTp"
      },
      "source": [
        "data = data.drop(datadrop)\n",
        "#292550 - 1928"
      ],
      "execution_count": 12,
      "outputs": []
    },
    {
      "cell_type": "markdown",
      "metadata": {
        "id": "3vgULfSWdZTq"
      },
      "source": [
        "**Treatment group/Experiment finding themselves under Old landing page**"
      ]
    },
    {
      "cell_type": "code",
      "metadata": {
        "execution": {
          "iopub.execute_input": "2021-10-21T00:07:42.841392Z",
          "iopub.status.busy": "2021-10-21T00:07:42.840846Z",
          "iopub.status.idle": "2021-10-21T00:07:42.972620Z",
          "shell.execute_reply": "2021-10-21T00:07:42.971857Z",
          "shell.execute_reply.started": "2021-10-21T00:07:42.841355Z"
        },
        "id": "Kes3-qzOdZTr"
      },
      "source": [
        "mask2 = (data['group'] == 'treatment') & (data['landing_page'] == 'old_page')\n",
        "index_mask2 = data[mask2].index\n",
        "data = data.drop(index_mask2)"
      ],
      "execution_count": 13,
      "outputs": []
    },
    {
      "cell_type": "code",
      "metadata": {
        "execution": {
          "iopub.execute_input": "2021-10-21T00:07:42.974024Z",
          "iopub.status.busy": "2021-10-21T00:07:42.973764Z",
          "iopub.status.idle": "2021-10-21T00:07:43.024208Z",
          "shell.execute_reply": "2021-10-21T00:07:43.023468Z",
          "shell.execute_reply.started": "2021-10-21T00:07:42.973987Z"
        },
        "colab": {
          "base_uri": "https://localhost:8080/"
        },
        "id": "OG-zCwLudZTr",
        "outputId": "f17df28f-2101-4925-f61b-f1bca07c0b15"
      },
      "source": [
        "data['group'].value_counts()"
      ],
      "execution_count": 14,
      "outputs": [
        {
          "output_type": "execute_result",
          "data": {
            "text/plain": [
              "treatment    145311\n",
              "control      145274\n",
              "Name: group, dtype: int64"
            ]
          },
          "metadata": {},
          "execution_count": 14
        }
      ]
    },
    {
      "cell_type": "code",
      "metadata": {
        "execution": {
          "iopub.execute_input": "2021-10-21T00:07:43.026020Z",
          "iopub.status.busy": "2021-10-21T00:07:43.025704Z",
          "iopub.status.idle": "2021-10-21T00:07:43.044384Z",
          "shell.execute_reply": "2021-10-21T00:07:43.043533Z",
          "shell.execute_reply.started": "2021-10-21T00:07:43.025962Z"
        },
        "colab": {
          "base_uri": "https://localhost:8080/"
        },
        "id": "d3Q-C8LEdZTs",
        "outputId": "d0a3f79b-8044-4d9a-8650-c44f97a3072c"
      },
      "source": [
        "#Check how many duplicated users exist, if there is any\n",
        "print(data[\"user_id\"].count())\n",
        "print(data[\"user_id\"].nunique())"
      ],
      "execution_count": 15,
      "outputs": [
        {
          "output_type": "stream",
          "name": "stdout",
          "text": [
            "290585\n",
            "290584\n"
          ]
        }
      ]
    },
    {
      "cell_type": "code",
      "metadata": {
        "execution": {
          "iopub.execute_input": "2021-10-21T00:07:43.047706Z",
          "iopub.status.busy": "2021-10-21T00:07:43.047465Z",
          "iopub.status.idle": "2021-10-21T00:07:43.086423Z",
          "shell.execute_reply": "2021-10-21T00:07:43.085752Z",
          "shell.execute_reply.started": "2021-10-21T00:07:43.047678Z"
        },
        "id": "VfiUzDkMdZTt"
      },
      "source": [
        "#drop duplicated users\n",
        "data.drop_duplicates(subset ='user_id',keep ='first',inplace = True)"
      ],
      "execution_count": 16,
      "outputs": []
    },
    {
      "cell_type": "code",
      "metadata": {
        "execution": {
          "iopub.execute_input": "2021-10-21T00:07:43.088013Z",
          "iopub.status.busy": "2021-10-21T00:07:43.087480Z",
          "iopub.status.idle": "2021-10-21T00:07:43.097933Z",
          "shell.execute_reply": "2021-10-21T00:07:43.097295Z",
          "shell.execute_reply.started": "2021-10-21T00:07:43.087981Z"
        },
        "colab": {
          "base_uri": "https://localhost:8080/",
          "height": 204
        },
        "id": "NXsCAU-ZdZTu",
        "outputId": "fb5441e2-e1a4-462f-ff29-a537ee9137be"
      },
      "source": [
        "data.head()"
      ],
      "execution_count": 17,
      "outputs": [
        {
          "output_type": "execute_result",
          "data": {
            "text/html": [
              "<div>\n",
              "<style scoped>\n",
              "    .dataframe tbody tr th:only-of-type {\n",
              "        vertical-align: middle;\n",
              "    }\n",
              "\n",
              "    .dataframe tbody tr th {\n",
              "        vertical-align: top;\n",
              "    }\n",
              "\n",
              "    .dataframe thead th {\n",
              "        text-align: right;\n",
              "    }\n",
              "</style>\n",
              "<table border=\"1\" class=\"dataframe\">\n",
              "  <thead>\n",
              "    <tr style=\"text-align: right;\">\n",
              "      <th></th>\n",
              "      <th>user_id</th>\n",
              "      <th>timestamp</th>\n",
              "      <th>group</th>\n",
              "      <th>landing_page</th>\n",
              "      <th>converted</th>\n",
              "    </tr>\n",
              "  </thead>\n",
              "  <tbody>\n",
              "    <tr>\n",
              "      <th>0</th>\n",
              "      <td>851104</td>\n",
              "      <td>2017-01-21 22:11:48.556739</td>\n",
              "      <td>control</td>\n",
              "      <td>old_page</td>\n",
              "      <td>0</td>\n",
              "    </tr>\n",
              "    <tr>\n",
              "      <th>1</th>\n",
              "      <td>804228</td>\n",
              "      <td>2017-01-12 08:01:45.159739</td>\n",
              "      <td>control</td>\n",
              "      <td>old_page</td>\n",
              "      <td>0</td>\n",
              "    </tr>\n",
              "    <tr>\n",
              "      <th>2</th>\n",
              "      <td>661590</td>\n",
              "      <td>2017-01-11 16:55:06.154213</td>\n",
              "      <td>treatment</td>\n",
              "      <td>new_page</td>\n",
              "      <td>0</td>\n",
              "    </tr>\n",
              "    <tr>\n",
              "      <th>3</th>\n",
              "      <td>853541</td>\n",
              "      <td>2017-01-08 18:28:03.143765</td>\n",
              "      <td>treatment</td>\n",
              "      <td>new_page</td>\n",
              "      <td>0</td>\n",
              "    </tr>\n",
              "    <tr>\n",
              "      <th>4</th>\n",
              "      <td>864975</td>\n",
              "      <td>2017-01-21 01:52:26.210827</td>\n",
              "      <td>control</td>\n",
              "      <td>old_page</td>\n",
              "      <td>1</td>\n",
              "    </tr>\n",
              "  </tbody>\n",
              "</table>\n",
              "</div>"
            ],
            "text/plain": [
              "   user_id                   timestamp      group landing_page  converted\n",
              "0   851104  2017-01-21 22:11:48.556739    control     old_page          0\n",
              "1   804228  2017-01-12 08:01:45.159739    control     old_page          0\n",
              "2   661590  2017-01-11 16:55:06.154213  treatment     new_page          0\n",
              "3   853541  2017-01-08 18:28:03.143765  treatment     new_page          0\n",
              "4   864975  2017-01-21 01:52:26.210827    control     old_page          1"
            ]
          },
          "metadata": {},
          "execution_count": 17
        }
      ]
    },
    {
      "cell_type": "markdown",
      "metadata": {
        "id": "veW83fJhdZTu"
      },
      "source": [
        "What is count and sum?\n",
        "\n",
        "The count of a dataset is the number of observations in the dataset. This applies to all variables. \n",
        "\n",
        "Sum Definition: The sum of a dataset is the addition of all values in the dataset."
      ]
    },
    {
      "cell_type": "code",
      "metadata": {
        "execution": {
          "iopub.execute_input": "2021-10-21T00:07:43.099344Z",
          "iopub.status.busy": "2021-10-21T00:07:43.099013Z",
          "iopub.status.idle": "2021-10-21T00:07:43.105108Z",
          "shell.execute_reply": "2021-10-21T00:07:43.104348Z",
          "shell.execute_reply.started": "2021-10-21T00:07:43.099316Z"
        },
        "colab": {
          "base_uri": "https://localhost:8080/"
        },
        "id": "Dq4Mq2dXdZTv",
        "outputId": "feed076e-6659-49c0-bce3-12745c71e8fc"
      },
      "source": [
        "data['converted'].count()"
      ],
      "execution_count": 18,
      "outputs": [
        {
          "output_type": "execute_result",
          "data": {
            "text/plain": [
              "290584"
            ]
          },
          "metadata": {},
          "execution_count": 18
        }
      ]
    },
    {
      "cell_type": "code",
      "metadata": {
        "execution": {
          "iopub.execute_input": "2021-10-21T00:07:43.106959Z",
          "iopub.status.busy": "2021-10-21T00:07:43.106331Z",
          "iopub.status.idle": "2021-10-21T00:07:43.228075Z",
          "shell.execute_reply": "2021-10-21T00:07:43.227358Z",
          "shell.execute_reply.started": "2021-10-21T00:07:43.106916Z"
        },
        "colab": {
          "base_uri": "https://localhost:8080/"
        },
        "id": "WdIeOxoXdZTv",
        "outputId": "676e753e-2830-4c8b-fdab-b7a9c7b295a6"
      },
      "source": [
        "#Show the % split between users who saw new vs old page\n",
        "#Calculate pooled probability\n",
        "# FOR CONTROL\n",
        "control_only = (data[\"group\"] == \"control\")    # for only control group\n",
        "conversions_control = data[\"converted\"][control_only].sum()   # converted 1 or not 0.. addition of count\n",
        "total_users_control = data[\"converted\"][control_only].count()  # converted = 0/1.. total count\n",
        "print(f\"conversions_control is {conversions_control}\")\n",
        "print(f\"total_users_control is {total_users_control}\")\n",
        "print ( )\n",
        "# FOR TREATMENT\n",
        "treatment_only = (data[\"group\"] == \"treatment\")  # for only treatment group\n",
        "conversions_treatment = data[\"converted\"][treatment_only].sum() # addition of all counts\n",
        "total_users_treatment = data[\"converted\"][treatment_only].count() # total of all counts\n",
        "print(f\"conversions_treatment is {conversions_treatment}\")\n",
        "print(f\"total_users_treatment is {total_users_treatment}\")"
      ],
      "execution_count": 19,
      "outputs": [
        {
          "output_type": "stream",
          "name": "stdout",
          "text": [
            "conversions_control is 17489\n",
            "total_users_control is 145274\n",
            "\n",
            "conversions_treatment is 17264\n",
            "total_users_treatment is 145310\n"
          ]
        }
      ]
    },
    {
      "cell_type": "code",
      "metadata": {
        "execution": {
          "iopub.execute_input": "2021-10-21T00:07:43.229988Z",
          "iopub.status.busy": "2021-10-21T00:07:43.229082Z",
          "iopub.status.idle": "2021-10-21T00:07:43.238453Z",
          "shell.execute_reply": "2021-10-21T00:07:43.237647Z",
          "shell.execute_reply.started": "2021-10-21T00:07:43.229896Z"
        },
        "colab": {
          "base_uri": "https://localhost:8080/"
        },
        "id": "FLWog5MBdZTw",
        "outputId": "d482b158-a91c-473c-bd39-03aa281316b5"
      },
      "source": [
        "# Originally:\n",
        "# control users ==> old page and treatment users ==> new page\n",
        "print(\"Split of control users who saw old page vs treatment users who saw new page: \", \n",
        "          round(total_users_control / data[\"converted\"].count() * 100, 2), \"% \",            # 145274 / 290584\n",
        "          round((total_users_treatment / data[\"converted\"].count()) * 100, 2), \"%\")         # 145310 / 290584\n"
      ],
      "execution_count": 20,
      "outputs": [
        {
          "output_type": "stream",
          "name": "stdout",
          "text": [
            "Split of control users who saw old page vs treatment users who saw new page:  49.99 %  50.01 %\n"
          ]
        }
      ]
    },
    {
      "cell_type": "code",
      "metadata": {
        "execution": {
          "iopub.execute_input": "2021-10-21T00:07:43.240315Z",
          "iopub.status.busy": "2021-10-21T00:07:43.240036Z",
          "iopub.status.idle": "2021-10-21T00:07:43.249607Z",
          "shell.execute_reply": "2021-10-21T00:07:43.248800Z",
          "shell.execute_reply.started": "2021-10-21T00:07:43.240283Z"
        },
        "colab": {
          "base_uri": "https://localhost:8080/"
        },
        "id": "kk4w183-dZTx",
        "outputId": "b4dc0be6-424c-40bd-fc42-5d7d1ed9f8fd"
      },
      "source": [
        "# count number of users who converted in each group\n",
        "print(\"Number of control users who converted on old page: \", conversions_control)\n",
        "print(\"Percentage of control users who converted: \", round((conversions_control / total_users_control) * 100, 2), \"%\")\n",
        "\n",
        "#mask = (df[\"group\"] == \"treatment\")\n",
        "print(\"Number of treatment users who converted on new page: \", conversions_treatment)\n",
        "print(\"Percentage of treatment users who converted: \", round((conversions_treatment/ total_users_treatment) * 100, 2), \"%\")"
      ],
      "execution_count": 21,
      "outputs": [
        {
          "output_type": "stream",
          "name": "stdout",
          "text": [
            "Number of control users who converted on old page:  17489\n",
            "Percentage of control users who converted:  12.04 %\n",
            "Number of treatment users who converted on new page:  17264\n",
            "Percentage of treatment users who converted:  11.88 %\n"
          ]
        }
      ]
    },
    {
      "cell_type": "markdown",
      "metadata": {
        "id": "l8CzvFdwdZTy"
      },
      "source": [
        "# **Set Test Parameters**"
      ]
    },
    {
      "cell_type": "markdown",
      "metadata": {
        "id": "KYoLi2SwdZTy"
      },
      "source": [
        "# 2. Input Test Parameters and Check Sample Size is Large Enough\n",
        "As mentioned in the “Designing an A/B Test, Section 4 — \n",
        "Determine Sample Size Required” there are four test parameters to set: \n",
        "\n",
        "**the baseline rate, practical significance level, confidence level and sensitivity**. \n",
        "I used the **control group probability** as a proxy for the **baseline significance level** and set the practical significance level, confidence level and sensitivity to 1%, 95% and 80% respectively. \n",
        "\n",
        "Using these values I calculated the minimum sample size required for each test group to make sure there was sufficient data to draw statistically robust conclusions."
      ]
    },
    {
      "cell_type": "markdown",
      "metadata": {
        "id": "K-pSWYSXdZTz"
      },
      "source": [
        "*What is the null hypothesis for a confidence interval?\n",
        "Typically our null hypothesized value will be 0 (point of no difference), and if we find 0 in our confidence interval then that would mean we have a good chance of actually finding NO DIFFERENCE, which is typically the opposite of what we want*"
      ]
    },
    {
      "cell_type": "code",
      "metadata": {
        "execution": {
          "iopub.execute_input": "2021-10-21T00:07:43.253176Z",
          "iopub.status.busy": "2021-10-21T00:07:43.252142Z",
          "iopub.status.idle": "2021-10-21T00:07:43.260405Z",
          "shell.execute_reply": "2021-10-21T00:07:43.259354Z",
          "shell.execute_reply.started": "2021-10-21T00:07:43.253130Z"
        },
        "colab": {
          "base_uri": "https://localhost:8080/"
        },
        "id": "U01n1TdEdZT0",
        "outputId": "ae52255a-ea90-4f00-96f1-62b9b91e388e"
      },
      "source": [
        "import math\n",
        "import statsmodels.stats.api as sm\n",
        "import scipy.stats as st"
      ],
      "execution_count": 22,
      "outputs": [
        {
          "output_type": "stream",
          "name": "stderr",
          "text": [
            "/usr/local/lib/python3.7/dist-packages/statsmodels/tools/_testing.py:19: FutureWarning: pandas.util.testing is deprecated. Use the functions in the public API at pandas.testing instead.\n",
            "  import pandas.util.testing as tm\n"
          ]
        }
      ]
    },
    {
      "cell_type": "code",
      "metadata": {
        "execution": {
          "iopub.execute_input": "2021-10-21T00:07:43.261865Z",
          "iopub.status.busy": "2021-10-21T00:07:43.261609Z",
          "iopub.status.idle": "2021-10-21T00:07:43.281461Z",
          "shell.execute_reply": "2021-10-21T00:07:43.280638Z",
          "shell.execute_reply.started": "2021-10-21T00:07:43.261825Z"
        },
        "colab": {
          "base_uri": "https://localhost:8080/"
        },
        "id": "NjO0QB-EdZT0",
        "outputId": "20cf4b8f-92d6-407a-b9f7-5f74e6b0b549"
      },
      "source": [
        "baseline = conversions_control / total_users_control\n",
        "practical_significance = 0.01 # user defined\n",
        "confidence_level = 0.05 # user defined, for a 95% confidence interval.\n",
        "sensitivity = 0.8 # user defined; by default we know it's normally 80%.\n",
        "\n",
        "effect_size = sm.proportion_effectsize(baseline, baseline + practical_significance)\n",
        "sample_size = sm.NormalIndPower().solve_power(effect_size = effect_size, power = sensitivity, \n",
        "                                               alpha = confidence_level, ratio=1.0)\n",
        "\n",
        "print(\"Required sample size: \", round(sample_size), \" per group\")"
      ],
      "execution_count": 23,
      "outputs": [
        {
          "output_type": "stream",
          "name": "stdout",
          "text": [
            "Required sample size:  17209  per group\n"
          ]
        }
      ]
    },
    {
      "cell_type": "markdown",
      "metadata": {
        "id": "jCHPqaYIdZT1"
      },
      "source": [
        "***The minimum sample size of 17,209 is slightly less than the 17,489 users in the control group and 17,264 users in the treatment group and is therefore sufficient to conduct the hypothesis testing.***"
      ]
    },
    {
      "cell_type": "markdown",
      "metadata": {
        "id": "FTHlL6rfdZT1"
      },
      "source": [
        "# 3. Run A/B Test\n",
        "Finally, we can run the A/B Test, or more specifically, test whether we can reject the null hypothesis (that the two groups have the same conversion rate) with 95% confidence. To do this we calculate a pooled probability and pooled standard error, a margin of error and the upper and lower bounds of\n",
        "the confidence interval. If these terms are unfamiliar its worth working through the modules in the Udacity course about A/B Testing."
      ]
    },
    {
      "cell_type": "code",
      "metadata": {
        "execution": {
          "iopub.execute_input": "2021-10-21T00:07:43.283432Z",
          "iopub.status.busy": "2021-10-21T00:07:43.282747Z",
          "iopub.status.idle": "2021-10-21T00:07:43.404720Z",
          "shell.execute_reply": "2021-10-21T00:07:43.403835Z",
          "shell.execute_reply.started": "2021-10-21T00:07:43.283397Z"
        },
        "id": "Kg6yRmuudZT1"
      },
      "source": [
        "#Calculate pooled probability (from above...already)\n",
        "# FOR CONTROL\n",
        "control_only = (data[\"group\"] == \"control\")    # for only control group\n",
        "conversions_control = data[\"converted\"][control_only].sum()   # converted 1 or not 0.. addition of count\n",
        "total_users_control = data[\"converted\"][control_only].count()  # converted = 0/1.. total count\n",
        "# FOR TREATMENT\n",
        "treatment_only = (data[\"group\"] == \"treatment\")  # for only treatment group\n",
        "conversions_treatment = data[\"converted\"][treatment_only].sum() # addition of all counts\n",
        "total_users_treatment = data[\"converted\"][treatment_only].count() # total of all counts\n",
        "\n",
        "\n",
        "# probability\n",
        "prob_pooled = (conversions_control + conversions_treatment) / (total_users_control + total_users_treatment)"
      ],
      "execution_count": 24,
      "outputs": []
    },
    {
      "cell_type": "code",
      "metadata": {
        "execution": {
          "iopub.execute_input": "2021-10-21T00:07:43.406174Z",
          "iopub.status.busy": "2021-10-21T00:07:43.405907Z",
          "iopub.status.idle": "2021-10-21T00:07:43.412885Z",
          "shell.execute_reply": "2021-10-21T00:07:43.411810Z",
          "shell.execute_reply.started": "2021-10-21T00:07:43.406144Z"
        },
        "id": "sS3IZ5mkdZT2"
      },
      "source": [
        "#Calculate pooled standard error and margin of error\n",
        "se_pooled = math.sqrt(prob_pooled * (1 - prob_pooled) * (1 / total_users_control + 1 / total_users_treatment))\n",
        "z_score = st.norm.ppf(1 - confidence_level / 2)\n",
        "margin_of_error = se_pooled * z_score\n",
        "\n",
        "#Calculate dhat, the estimated difference between probability of conversions in the experiment(treatment) and control groups\n",
        "d_hat = (conversions_treatment / total_users_treatment) - (conversions_control / total_users_control)\n",
        "\n",
        "#Test if we can reject the null hypothesis\n",
        "lower_bound = d_hat - margin_of_error\n",
        "upper_bound = d_hat + margin_of_error"
      ],
      "execution_count": 25,
      "outputs": []
    },
    {
      "cell_type": "code",
      "metadata": {
        "execution": {
          "iopub.execute_input": "2021-10-21T00:14:04.209595Z",
          "iopub.status.busy": "2021-10-21T00:14:04.209292Z",
          "iopub.status.idle": "2021-10-21T00:14:04.215691Z",
          "shell.execute_reply": "2021-10-21T00:14:04.215094Z",
          "shell.execute_reply.started": "2021-10-21T00:14:04.209560Z"
        },
        "colab": {
          "base_uri": "https://localhost:8080/"
        },
        "id": "V_gEzox9dZT2",
        "outputId": "cf9a14b1-7f3d-41db-e264-0d0193e1e7a8"
      },
      "source": [
        "if practical_significance > lower_bound: \n",
        "    print(\"Do not/Failed to reject the null hypothesis\")\n",
        "else: \n",
        "    print(\"Reject null hypothesis\")\n",
        "    \n",
        "print(\"The lower bound of the confidence interval is \", round(lower_bound * 100, 2), \"%\")\n",
        "print(\"The upper bound of the confidence interval is \", round(upper_bound * 100, 2), \"%\")"
      ],
      "execution_count": 26,
      "outputs": [
        {
          "output_type": "stream",
          "name": "stdout",
          "text": [
            "Do not/Failed to reject the null hypothesis\n",
            "The lower bound of the confidence interval is  -0.39 %\n",
            "The upper bound of the confidence interval is  0.08 %\n"
          ]
        }
      ]
    },
    {
      "cell_type": "markdown",
      "metadata": {
        "id": "pLuTKXWgdZT3"
      },
      "source": [
        "In this example the confidence interval is between -0.39% and 0.08%. \n",
        "Given the minimum level defined in the practical significance level is 1%, we could only reject the null hypothesis if the confidence interval lower bound was above 1%. Therefore we cannot reject the null hypothesis and conclude which landing page drives more conversions.\n",
        "\n",
        "# 4. Reducing random chance and managing small sample sizes\n",
        "The above approach should provide a starting point for conducting A/B testing in Python, however you should be mindful that as you begin running more and parallel experiments a 95% confidence interval will sometimes reject the null hypothesis due to random chance. Another issue that can arise will be when you may be unable to gather sufficient data points, such as on a low traffic website.\n",
        "\n",
        "One solution for this is to use bootstrapping, a technique that samples the original dataset with replacement to create new and unique datasets. It assumes that the original dataset is a fairly good reflection of the population as a whole so therefore sampling with replacement roughly simulates random sampling from the population.\n",
        "\n",
        "By bootstrapping the data, you can run the same test multiple times to reduce the chance of randomly rejecting the null hypothesis. Additionally, it can enable you to create larger sample sets that may be needed for hypothesis testing.\n",
        "\n",
        "If you’d like to expand your understanding of A/B testing further, see my blog: How to run better and more intuitive A/B tests using Bayesian statistics."
      ]
    }
  ]
}